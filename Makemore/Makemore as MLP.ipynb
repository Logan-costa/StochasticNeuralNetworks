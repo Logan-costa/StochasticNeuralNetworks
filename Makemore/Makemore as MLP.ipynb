{
 "cells": [
  {
   "cell_type": "code",
   "execution_count": 2,
   "id": "1fc3bc50-1373-4cbb-b4a2-a2803d7684ff",
   "metadata": {},
   "outputs": [],
   "source": [
    "import torch\n",
    "import torch.nn.functional as F\n",
    "import matplotlib.pyplot as plt \n",
    "%matplotlib inline"
   ]
  },
  {
   "cell_type": "code",
   "execution_count": 3,
   "id": "d317da06-da48-4403-a9ff-b875515685a6",
   "metadata": {},
   "outputs": [],
   "source": [
    "#reading words\n",
    "words = open(\"names.txt\", \"r\").read().splitlines()"
   ]
  },
  {
   "cell_type": "code",
   "execution_count": 4,
   "id": "ec426464-4f6e-4b30-a100-aca0a4a1aacd",
   "metadata": {},
   "outputs": [],
   "source": [
    "#building character vocabulatry and mappings to/from integes\n",
    "chars = sorted(list(set(''.join(words))))\n",
    "stoi = {s:i+1 for i,s in enumerate(chars)} #i.e a:1\n",
    "stoi[\".\"] = 0\n",
    "itos = {i:s for s,i in stoi.items()}"
   ]
  },
  {
   "cell_type": "code",
   "execution_count": 128,
   "id": "2579cfee-6981-43a5-bc3a-0f30f1790bea",
   "metadata": {},
   "outputs": [
    {
     "name": "stdout",
     "output_type": "stream",
     "text": [
      "torch.Size([182580, 3]) torch.Size([182580])\n",
      "torch.Size([22767, 3]) torch.Size([22767])\n",
      "torch.Size([22799, 3]) torch.Size([22799])\n"
     ]
    }
   ],
   "source": [
    "#build the dataset\n",
    "\n",
    "def build_dataset(words):\n",
    "    block_size = 3 #context length, how many characters to predict the next\n",
    "    X, Y = [], [] #input, expected output\n",
    "    for w in words:\n",
    "        #print(w)\n",
    "        context = [0] * block_size\n",
    "        for ch in w + '.':\n",
    "            ix = stoi[ch]\n",
    "            X.append(context)\n",
    "            Y.append(ix)\n",
    "            #print(''.join(itos[i] for i in context), '---->', itos[ix]) #prints the context and the predicted character\n",
    "            context = context[1:] + [ix] #crop and append\n",
    "    \n",
    "    X = torch.tensor(X)\n",
    "    Y = torch.tensor(Y)\n",
    "    print(X.shape, Y.shape)\n",
    "    return X, Y\n",
    "\n",
    "import random\n",
    "random.seed(42)\n",
    "random.shuffle(words)\n",
    "n1 = int(0.8 * len(words))\n",
    "n2 = int(0.9 * len(words))\n",
    "\n",
    "Xtr, Ytr = build_dataset(words[:n1])\n",
    "Xdev, Ydev = build_dataset(words[n1:n2])\n",
    "Xte, Yte = build_dataset(words[n2:])"
   ]
  },
  {
   "cell_type": "code",
   "execution_count": null,
   "id": "ba8bc527-2013-4ad8-b8aa-dbf639539c3a",
   "metadata": {},
   "outputs": [],
   "source": [
    "#don't run, messy code-------------------------------------"
   ]
  },
  {
   "cell_type": "code",
   "execution_count": 6,
   "id": "ec158ea8-e79c-4beb-b43d-c77dd37f393f",
   "metadata": {},
   "outputs": [],
   "source": [
    "C = torch.randn((27, 2)) #2 dimensional embedding for each character"
   ]
  },
  {
   "cell_type": "code",
   "execution_count": 7,
   "id": "793cb5da-7e33-41ae-8820-f5aeb70b27d7",
   "metadata": {},
   "outputs": [
    {
     "data": {
      "text/plain": [
       "tensor([-0.5339, -0.3660])"
      ]
     },
     "execution_count": 7,
     "metadata": {},
     "output_type": "execute_result"
    }
   ],
   "source": [
    "C[5]"
   ]
  },
  {
   "cell_type": "code",
   "execution_count": 32,
   "id": "775ed427-9a97-4371-a902-d0aea0fbd3a6",
   "metadata": {},
   "outputs": [],
   "source": [
    "emb = C[X] #embedding the input\n",
    "#emb is a tensor of dimension 32x3x2\n",
    "#meaning it has 32 3x2 matrices, each of which corresponds to a row in X\n",
    "#each row in those matrices is the 2 dimensional embedding for each character"
   ]
  },
  {
   "cell_type": "code",
   "execution_count": 9,
   "id": "66f42f22-c1b1-4bde-9efc-59896c837062",
   "metadata": {},
   "outputs": [],
   "source": [
    "W1 = torch.randn((6, 100)) #inputs, outputs (6*2 inputs, 100 nuerons to output to)\n",
    "b1 = torch.randn(100)"
   ]
  },
  {
   "cell_type": "code",
   "execution_count": 29,
   "id": "9efae6f9-6243-4d4a-a651-120b034d82ea",
   "metadata": {},
   "outputs": [],
   "source": [
    "h = torch.tanh(emb.view(emb.shape[0], 6) @ W1 + b1) #view shenanigans"
   ]
  },
  {
   "cell_type": "code",
   "execution_count": 34,
   "id": "b7686c1d-53b6-451e-b637-3c1da15832a3",
   "metadata": {},
   "outputs": [
    {
     "data": {
      "text/plain": [
       "tensor([[ 0.5572,  0.7773,  0.2348,  ...,  0.9555, -0.0756,  0.5426],\n",
       "        [ 0.8724, -0.3823, -0.2243,  ...,  0.9545, -0.6810, -0.7627],\n",
       "        [ 0.8992,  0.9849,  0.7328,  ...,  0.8184,  0.8042,  0.9997],\n",
       "        ...,\n",
       "        [ 0.9568,  0.8069,  0.9691,  ...,  0.3201,  0.6418, -0.9549],\n",
       "        [-1.0000, -0.9976, -0.9904,  ...,  1.0000,  0.7828, -0.9647],\n",
       "        [-0.7168, -0.9756, -0.8476,  ...,  1.0000, -0.9999, -0.9958]])"
      ]
     },
     "execution_count": 34,
     "metadata": {},
     "output_type": "execute_result"
    }
   ],
   "source": [
    "h #these are the hidden layer acivations for the first layer"
   ]
  },
  {
   "cell_type": "code",
   "execution_count": 35,
   "id": "6085ff0d-e25f-4aaa-975c-05e451efd644",
   "metadata": {},
   "outputs": [],
   "source": [
    "W2 = torch.randn((100, 27))\n",
    "b2 = torch.randn(27)"
   ]
  },
  {
   "cell_type": "code",
   "execution_count": 36,
   "id": "115cc8bb-9b77-4565-a585-9c41ead32dd0",
   "metadata": {},
   "outputs": [],
   "source": [
    "logits = h @ W2 + b2 #outputs of the network basically"
   ]
  },
  {
   "cell_type": "code",
   "execution_count": 37,
   "id": "13a5f0ca-4613-462f-ac0b-568bbd7f4024",
   "metadata": {},
   "outputs": [],
   "source": [
    "counts = logits.exp()"
   ]
  },
  {
   "cell_type": "code",
   "execution_count": 38,
   "id": "908d2fd6-ea69-4d1b-b8dd-c1bda07b346a",
   "metadata": {},
   "outputs": [],
   "source": [
    "prob = counts/counts.sum(1, keepdims = True)"
   ]
  },
  {
   "cell_type": "code",
   "execution_count": 39,
   "id": "9508189e-4d15-4272-960a-7362165ae650",
   "metadata": {},
   "outputs": [
    {
     "data": {
      "text/plain": [
       "torch.Size([32, 27])"
      ]
     },
     "execution_count": 39,
     "metadata": {},
     "output_type": "execute_result"
    }
   ],
   "source": [
    "prob.shape"
   ]
  },
  {
   "cell_type": "code",
   "execution_count": 46,
   "id": "620ba8b2-b7c1-44b3-b6cf-88bc4dba3a9b",
   "metadata": {},
   "outputs": [
    {
     "data": {
      "text/plain": [
       "tensor(14.7835)"
      ]
     },
     "execution_count": 46,
     "metadata": {},
     "output_type": "execute_result"
    }
   ],
   "source": [
    "loss = -prob[torch.arange(32), Y].log().mean()\n",
    "loss"
   ]
  },
  {
   "cell_type": "code",
   "execution_count": 47,
   "id": "0e0383de-5d3f-48e7-bafc-44edb6b10e1c",
   "metadata": {},
   "outputs": [],
   "source": [
    "#run here, more streamlined----------------------"
   ]
  },
  {
   "cell_type": "code",
   "execution_count": 129,
   "id": "84646a06-0845-4734-bc0f-dbe3d8bc4fee",
   "metadata": {},
   "outputs": [
    {
     "data": {
      "text/plain": [
       "(torch.Size([182580, 3]), torch.Size([182580]))"
      ]
     },
     "execution_count": 129,
     "metadata": {},
     "output_type": "execute_result"
    }
   ],
   "source": [
    "Xtr.shape, Ytr.shape #dataset"
   ]
  },
  {
   "cell_type": "code",
   "execution_count": 159,
   "id": "24114d35-7566-48cd-9dc0-da3a465341b2",
   "metadata": {},
   "outputs": [],
   "source": [
    "C = torch.randn((27, 10)) #2 dimensional embedding for each character\n",
    "#hidden layer\n",
    "W1 = torch.randn((30, 200)) #inputs, outputs (6*2 inputs, 100 nuerons to output to)\n",
    "b1 = torch.randn(200)\n",
    "#output layer\n",
    "W2 = torch.randn((200, 27))\n",
    "b2 = torch.randn(27)\n",
    "parameters = [C, W1, b1, W2, b2]"
   ]
  },
  {
   "cell_type": "code",
   "execution_count": 160,
   "id": "862ea720-6aa3-45d2-8de3-2b6ee190aa64",
   "metadata": {},
   "outputs": [
    {
     "data": {
      "text/plain": [
       "11897"
      ]
     },
     "execution_count": 160,
     "metadata": {},
     "output_type": "execute_result"
    }
   ],
   "source": [
    "sum(p.nelement() for p in parameters) #number of parameters"
   ]
  },
  {
   "cell_type": "code",
   "execution_count": 161,
   "id": "faf50724-1ca8-4986-90e5-1fe1ecc2ab97",
   "metadata": {},
   "outputs": [],
   "source": [
    "for p in parameters:\n",
    "    p.requires_grad = True"
   ]
  },
  {
   "cell_type": "code",
   "execution_count": 162,
   "id": "798ed0ab-0ed5-4812-a643-e27a28aab558",
   "metadata": {},
   "outputs": [],
   "source": [
    "lre = torch.linspace(-3, 0, 1000)\n",
    "lrs = 10**lre"
   ]
  },
  {
   "cell_type": "code",
   "execution_count": 163,
   "id": "266f62f8-af13-434c-a2e3-5833fda4a327",
   "metadata": {},
   "outputs": [],
   "source": [
    "lri = []\n",
    "lossi = []\n",
    "stepi = []"
   ]
  },
  {
   "cell_type": "code",
   "execution_count": 171,
   "id": "01cf94fa-81ac-4b96-ab33-b9f4f027a1e9",
   "metadata": {},
   "outputs": [
    {
     "name": "stdout",
     "output_type": "stream",
     "text": [
      "1.8806935548782349\n"
     ]
    }
   ],
   "source": [
    "for i in range (200000):\n",
    "    #batching\n",
    "    ix = torch.randint(0, Xtr.shape[0], (32,)) #getting 32 random ints from X.shape[0]\n",
    "    \n",
    "    #forward pass\n",
    "    emb = C[Xtr[ix]] #(32, 3, 2) tensor\n",
    "    h = torch.tanh(emb.view(emb.shape[0], 30) @ W1 + b1) #(32, 100)\n",
    "    logits = h @ W2 + b2#(32, 27)\n",
    "    loss = F.cross_entropy(logits, Ytr[ix])\n",
    "    \n",
    "    #backward pass\n",
    "    for p in parameters:\n",
    "        p.grad = None\n",
    "    loss.backward()\n",
    "    \n",
    "    #update\n",
    "    #lr = lrs[i] #learning rate\n",
    "    lr = 0.1 if i < 100000 else 0.01 #learning rate decay\n",
    "    for p in parameters:\n",
    "        p.data += -lr * p.grad\n",
    "\n",
    "    #track stats for optimizing learning rate\n",
    "    lri.append(lr)\n",
    "    lossi.append(loss.log10().item())\n",
    "    stepi.append(i)\n",
    "    \n",
    "print(loss.item())\n",
    "#plt.plot(lri, lossi)"
   ]
  },
  {
   "cell_type": "code",
   "execution_count": 172,
   "id": "baa39ca1-d57f-4878-a59e-314de4df4178",
   "metadata": {},
   "outputs": [
    {
     "data": {
      "text/plain": [
       "[<matplotlib.lines.Line2D at 0x244bcb23f40>]"
      ]
     },
     "execution_count": 172,
     "metadata": {},
     "output_type": "execute_result"
    },
    {
     "data": {
      "image/png": "[encoded data removed]",
      "text/plain": [
       "<Figure size 640x480 with 1 Axes>"
      ]
     },
     "metadata": {},
     "output_type": "display_data"
    }
   ],
   "source": [
    "plt.plot(stepi, lossi)"
   ]
  },
  {
   "cell_type": "code",
   "execution_count": null,
   "id": "ee2dcc66-3a60-4457-8a74-a8a879cef844",
   "metadata": {},
   "outputs": [],
   "source": [
    "#should be here so we can see the loss over all the training set, but I'm a lil lazy"
   ]
  },
  {
   "cell_type": "code",
   "execution_count": 173,
   "id": "443d2491-23b7-4e43-a2dc-549bcbbf9581",
   "metadata": {},
   "outputs": [
    {
     "data": {
      "text/plain": [
       "2.1490633487701416"
      ]
     },
     "execution_count": 173,
     "metadata": {},
     "output_type": "execute_result"
    }
   ],
   "source": [
    "emb = C[Xdev] #(32, 3, 2) tensor\n",
    "h = torch.tanh(emb.view(emb.shape[0], 30) @ W1 + b1) #(32, 100)\n",
    "logits = h @ W2 + b2 #(32, 27)\n",
    "loss = F.cross_entropy(logits, Ydev)\n",
    "loss.item()"
   ]
  },
  {
   "cell_type": "code",
   "execution_count": 126,
   "id": "d394ce59-699d-4fcd-a2ce-e60784fa9a1f",
   "metadata": {},
   "outputs": [],
   "source": [
    "#training split, dev/validation split, test split\n",
    "#80%, 10%, 10%\n",
    "#optimize parameters, hyper parameters, evaluate performance"
   ]
  },
  {
   "cell_type": "code",
   "execution_count": 158,
   "id": "f4bddec3-4831-4f54-8f8e-589bd7b4dc0c",
   "metadata": {},
   "outputs": [
    {
     "data": {
      "image/png": "[encoded data removed]",
      "text/plain": [
       "<Figure size 800x800 with 1 Axes>"
      ]
     },
     "metadata": {},
     "output_type": "display_data"
    }
   ],
   "source": [
    "plt.figure(figsize=(8,8))\n",
    "plt.scatter(C[:,0].data, C[:,1].data, s=200)\n",
    "for i in range(C.shape[0]):\n",
    "    plt.text(C[i,0].item(), C[i,1].item(), itos[i], ha=\"center\", va=\"center\", color=\"white\")\n",
    "plt.grid(\"minor\")"
   ]
  },
  {
   "cell_type": "code",
   "execution_count": 176,
   "id": "09988a0b-9f65-43bc-9ad0-c76f6a7194fa",
   "metadata": {},
   "outputs": [
    {
     "name": "stdout",
     "output_type": "stream",
     "text": [
      "jeneo.\n",
      "lice.\n",
      "myraah.\n",
      "abdorie.\n",
      "azalika.\n",
      "zoline.\n",
      "nolynn.\n",
      "gretti.\n",
      "yaviovii.\n",
      "roxton.\n",
      "qudiem.\n",
      "amhizarysanleigh.\n",
      "khlyn.\n",
      "des.\n",
      "zurusziforiushmaneva.\n",
      "tylbhiorayla.\n",
      "levor.\n",
      "racheto.\n",
      "tsaurick.\n",
      "portn.\n"
     ]
    }
   ],
   "source": [
    "#sampling from the model\n",
    "for _ in range(20):\n",
    "    out = []\n",
    "    context = [0] * block_size #initialize all with ...\n",
    "    while True:\n",
    "        emb = C[torch.tensor([context])] #1, block_size, d\n",
    "        h = torch.tanh(emb.view(1, -1) @ W1 + b1)\n",
    "        logits = h @ W2 + b2\n",
    "        probs = F.softmax(logits, dim=1)\n",
    "        ix = torch.multinomial(probs, num_samples = 1).item()\n",
    "        context = context[1:] + [ix]\n",
    "        out.append(ix)\n",
    "        if ix == 0:\n",
    "            break\n",
    "\n",
    "    print(''.join(itos[i] for i in out))"
   ]
  },
  {
   "cell_type": "code",
   "execution_count": null,
   "id": "f05ef184-520a-4269-8a58-6965703e78e4",
   "metadata": {},
   "outputs": [],
   "source": []
  }
 ],
 "metadata": {
  "kernelspec": {
   "display_name": "Python 3 (ipykernel)",
   "language": "python",
   "name": "python3"
  },
  "language_info": {
   "codemirror_mode": {
    "name": "ipython",
    "version": 3
   },
   "file_extension": ".py",
   "mimetype": "text/x-python",
   "name": "python",
   "nbconvert_exporter": "python",
   "pygments_lexer": "ipython3",
   "version": "3.10.0"
  }
 },
 "nbformat": 4,
 "nbformat_minor": 5
}
