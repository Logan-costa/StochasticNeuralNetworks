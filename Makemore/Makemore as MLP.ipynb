{
 "cells": [
  {
   "cell_type": "code",
   "execution_count": 1,
   "id": "1fc3bc50-1373-4cbb-b4a2-a2803d7684ff",
   "metadata": {},
   "outputs": [],
   "source": [
    "import torch\n",
    "import torch.nn.functional as F\n",
    "import matplotlib.pyplot as plt \n",
    "%matplotlib inline"
   ]
  },
  {
   "cell_type": "code",
   "execution_count": 2,
   "id": "d317da06-da48-4403-a9ff-b875515685a6",
   "metadata": {},
   "outputs": [],
   "source": [
    "#reading words\n",
    "words = open(\"names.txt\", \"r\").read().splitlines()"
   ]
  },
  {
   "cell_type": "code",
   "execution_count": 3,
   "id": "ec426464-4f6e-4b30-a100-aca0a4a1aacd",
   "metadata": {},
   "outputs": [],
   "source": [
    "#building character vocabulatry and mappings to/from integes\n",
    "chars = sorted(list(set(''.join(words))))\n",
    "stoi = {s:i+1 for i,s in enumerate(chars)} #i.e a:1\n",
    "stoi[\".\"] = 0\n",
    "itos = {i:s for s,i in stoi.items()}"
   ]
  },
  {
   "cell_type": "code",
   "execution_count": 6,
   "id": "2579cfee-6981-43a5-bc3a-0f30f1790bea",
   "metadata": {},
   "outputs": [
    {
     "name": "stdout",
     "output_type": "stream",
     "text": [
      "emma\n",
      "... ----> e\n",
      "..e ----> m\n",
      ".em ----> m\n",
      "emm ----> a\n",
      "mma ----> .\n",
      "olivia\n",
      "... ----> o\n",
      "..o ----> l\n",
      ".ol ----> i\n",
      "oli ----> v\n",
      "liv ----> i\n",
      "ivi ----> a\n",
      "via ----> .\n",
      "ava\n",
      "... ----> a\n",
      "..a ----> v\n",
      ".av ----> a\n",
      "ava ----> .\n",
      "isabella\n",
      "... ----> i\n",
      "..i ----> s\n",
      ".is ----> a\n",
      "isa ----> b\n",
      "sab ----> e\n",
      "abe ----> l\n",
      "bel ----> l\n",
      "ell ----> a\n",
      "lla ----> .\n",
      "sophia\n",
      "... ----> s\n",
      "..s ----> o\n",
      ".so ----> p\n",
      "sop ----> h\n",
      "oph ----> i\n",
      "phi ----> a\n",
      "hia ----> .\n"
     ]
    }
   ],
   "source": [
    "#build the dataset\n",
    "\n",
    "block_size = 3 #context length, how many characters to predict the next\n",
    "X, Y = [], [] #input, expected output\n",
    "for w in words[:5]:\n",
    "    print(w)\n",
    "    context = [0] * block_size\n",
    "    for ch in w + '.':\n",
    "        ix = stoi[ch]\n",
    "        X.append(context)\n",
    "        Y.append(ix)\n",
    "        print(''.join(itos[i] for i in context), '---->', itos[ix]) #prints the context and the predicted character\n",
    "        context = context[1:] + [ix] #crop and append\n",
    "\n",
    "X = torch.tensor(X)\n",
    "Y = torch.tensor(Y)"
   ]
  },
  {
   "cell_type": "code",
   "execution_count": 7,
   "id": "ec158ea8-e79c-4beb-b43d-c77dd37f393f",
   "metadata": {},
   "outputs": [],
   "source": [
    "C = torch.randn((27, 2)) #2 dimensional embedding for each character"
   ]
  },
  {
   "cell_type": "code",
   "execution_count": 10,
   "id": "793cb5da-7e33-41ae-8820-f5aeb70b27d7",
   "metadata": {},
   "outputs": [
    {
     "data": {
      "text/plain": [
       "tensor([ 0.8952, -0.3525])"
      ]
     },
     "execution_count": 10,
     "metadata": {},
     "output_type": "execute_result"
    }
   ],
   "source": [
    "C[5]"
   ]
  },
  {
   "cell_type": "code",
   "execution_count": 34,
   "id": "775ed427-9a97-4371-a902-d0aea0fbd3a6",
   "metadata": {},
   "outputs": [],
   "source": [
    "emb = C[X] #embedding the input\n",
    "#emb is a tensor of dimension 32x3x2\n",
    "#meaning it has 32 3x2 matrices, each of which corresponds to a row in X"
   ]
  },
  {
   "cell_type": "code",
   "execution_count": 21,
   "id": "66f42f22-c1b1-4bde-9efc-59896c837062",
   "metadata": {},
   "outputs": [],
   "source": [
    "W1 = torch.randn((6, 100)) #inputs, outputs (6*2 inputs, 100 nuerons to output to)\n",
    "b1 = torch.randn(100)"
   ]
  },
  {
   "cell_type": "code",
   "execution_count": 42,
   "id": "9efae6f9-6243-4d4a-a651-120b034d82ea",
   "metadata": {},
   "outputs": [
    {
     "data": {
      "text/plain": [
       "tensor([[[-1.2634,  0.3540],\n",
       "         [-1.2634,  0.3540],\n",
       "         [-1.2634,  0.3540]],\n",
       "\n",
       "        [[-1.2634,  0.3540],\n",
       "         [-1.2634,  0.3540],\n",
       "         [ 0.8952, -0.3525]],\n",
       "\n",
       "        [[-1.2634,  0.3540],\n",
       "         [ 0.8952, -0.3525],\n",
       "         [-1.0941, -1.2411]],\n",
       "\n",
       "        [[ 0.8952, -0.3525],\n",
       "         [-1.0941, -1.2411],\n",
       "         [-1.0941, -1.2411]],\n",
       "\n",
       "        [[-1.0941, -1.2411],\n",
       "         [-1.0941, -1.2411],\n",
       "         [-0.0731,  0.6261]],\n",
       "\n",
       "        [[-1.2634,  0.3540],\n",
       "         [-1.2634,  0.3540],\n",
       "         [-1.2634,  0.3540]],\n",
       "\n",
       "        [[-1.2634,  0.3540],\n",
       "         [-1.2634,  0.3540],\n",
       "         [-0.1823,  0.4750]],\n",
       "\n",
       "        [[-1.2634,  0.3540],\n",
       "         [-0.1823,  0.4750],\n",
       "         [ 0.2202,  0.8171]],\n",
       "\n",
       "        [[-0.1823,  0.4750],\n",
       "         [ 0.2202,  0.8171],\n",
       "         [ 0.4808,  0.8183]],\n",
       "\n",
       "        [[ 0.2202,  0.8171],\n",
       "         [ 0.4808,  0.8183],\n",
       "         [-1.7840,  0.1741]],\n",
       "\n",
       "        [[ 0.4808,  0.8183],\n",
       "         [-1.7840,  0.1741],\n",
       "         [ 0.4808,  0.8183]],\n",
       "\n",
       "        [[-1.7840,  0.1741],\n",
       "         [ 0.4808,  0.8183],\n",
       "         [-0.0731,  0.6261]],\n",
       "\n",
       "        [[-1.2634,  0.3540],\n",
       "         [-1.2634,  0.3540],\n",
       "         [-1.2634,  0.3540]],\n",
       "\n",
       "        [[-1.2634,  0.3540],\n",
       "         [-1.2634,  0.3540],\n",
       "         [-0.0731,  0.6261]],\n",
       "\n",
       "        [[-1.2634,  0.3540],\n",
       "         [-0.0731,  0.6261],\n",
       "         [-1.7840,  0.1741]],\n",
       "\n",
       "        [[-0.0731,  0.6261],\n",
       "         [-1.7840,  0.1741],\n",
       "         [-0.0731,  0.6261]],\n",
       "\n",
       "        [[-1.2634,  0.3540],\n",
       "         [-1.2634,  0.3540],\n",
       "         [-1.2634,  0.3540]],\n",
       "\n",
       "        [[-1.2634,  0.3540],\n",
       "         [-1.2634,  0.3540],\n",
       "         [ 0.4808,  0.8183]],\n",
       "\n",
       "        [[-1.2634,  0.3540],\n",
       "         [ 0.4808,  0.8183],\n",
       "         [-0.8671, -0.3542]],\n",
       "\n",
       "        [[ 0.4808,  0.8183],\n",
       "         [-0.8671, -0.3542],\n",
       "         [-0.0731,  0.6261]],\n",
       "\n",
       "        [[-0.8671, -0.3542],\n",
       "         [-0.0731,  0.6261],\n",
       "         [ 0.0376,  0.4376]],\n",
       "\n",
       "        [[-0.0731,  0.6261],\n",
       "         [ 0.0376,  0.4376],\n",
       "         [ 0.8952, -0.3525]],\n",
       "\n",
       "        [[ 0.0376,  0.4376],\n",
       "         [ 0.8952, -0.3525],\n",
       "         [ 0.2202,  0.8171]],\n",
       "\n",
       "        [[ 0.8952, -0.3525],\n",
       "         [ 0.2202,  0.8171],\n",
       "         [ 0.2202,  0.8171]],\n",
       "\n",
       "        [[ 0.2202,  0.8171],\n",
       "         [ 0.2202,  0.8171],\n",
       "         [-0.0731,  0.6261]],\n",
       "\n",
       "        [[-1.2634,  0.3540],\n",
       "         [-1.2634,  0.3540],\n",
       "         [-1.2634,  0.3540]],\n",
       "\n",
       "        [[-1.2634,  0.3540],\n",
       "         [-1.2634,  0.3540],\n",
       "         [-0.8671, -0.3542]],\n",
       "\n",
       "        [[-1.2634,  0.3540],\n",
       "         [-0.8671, -0.3542],\n",
       "         [-0.1823,  0.4750]],\n",
       "\n",
       "        [[-0.8671, -0.3542],\n",
       "         [-0.1823,  0.4750],\n",
       "         [ 0.1905, -0.7607]],\n",
       "\n",
       "        [[-0.1823,  0.4750],\n",
       "         [ 0.1905, -0.7607],\n",
       "         [ 0.6851, -0.1650]],\n",
       "\n",
       "        [[ 0.1905, -0.7607],\n",
       "         [ 0.6851, -0.1650],\n",
       "         [ 0.4808,  0.8183]],\n",
       "\n",
       "        [[ 0.6851, -0.1650],\n",
       "         [ 0.4808,  0.8183],\n",
       "         [-0.0731,  0.6261]]])"
      ]
     },
     "execution_count": 42,
     "metadata": {},
     "output_type": "execute_result"
    }
   ],
   "source": [
    "emb"
   ]
  },
  {
   "cell_type": "code",
   "execution_count": 41,
   "id": "22b3e917-0fa7-4b01-be1a-35a0db5364d6",
   "metadata": {},
   "outputs": [
    {
     "data": {
      "text/plain": [
       "tensor([ 0.3540,  0.3540, -0.3525, -1.2411, -1.2411,  0.3540,  0.3540,  0.4750,\n",
       "         0.8171,  0.8183,  0.1741,  0.8183,  0.3540,  0.3540,  0.6261,  0.1741,\n",
       "         0.3540,  0.3540,  0.8183, -0.3542,  0.6261,  0.4376, -0.3525,  0.8171,\n",
       "         0.8171,  0.3540,  0.3540, -0.3542,  0.4750, -0.7607, -0.1650,  0.8183])"
      ]
     },
     "execution_count": 41,
     "metadata": {},
     "output_type": "execute_result"
    }
   ],
   "source": [
    "emb[:, 1, 1] #indexing a tensor"
   ]
  },
  {
   "cell_type": "code",
   "execution_count": null,
   "id": "f36d8255-d17e-47c0-a5e8-57898888f3d3",
   "metadata": {},
   "outputs": [],
   "source": [
    "torch(emb[:, 0, :], emb[:, 1, :], emb[:, 2, :]) #all of the"
   ]
  }
 ],
 "metadata": {
  "kernelspec": {
   "display_name": "Python 3 (ipykernel)",
   "language": "python",
   "name": "python3"
  },
  "language_info": {
   "codemirror_mode": {
    "name": "ipython",
    "version": 3
   },
   "file_extension": ".py",
   "mimetype": "text/x-python",
   "name": "python",
   "nbconvert_exporter": "python",
   "pygments_lexer": "ipython3",
   "version": "3.11.5"
  }
 },
 "nbformat": 4,
 "nbformat_minor": 5
}
