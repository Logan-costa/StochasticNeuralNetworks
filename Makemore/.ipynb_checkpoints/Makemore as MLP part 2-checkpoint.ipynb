{
 "cells": [
  {
   "cell_type": "code",
   "execution_count": 2,
   "id": "1fc3bc50-1373-4cbb-b4a2-a2803d7684ff",
   "metadata": {},
   "outputs": [],
   "source": [
    "import torch\n",
    "import torch.nn.functional as F\n",
    "import matplotlib.pyplot as plt \n",
    "%matplotlib inline"
   ]
  },
  {
   "cell_type": "code",
   "execution_count": 3,
   "id": "d317da06-da48-4403-a9ff-b875515685a6",
   "metadata": {},
   "outputs": [],
   "source": [
    "#reading words\n",
    "words = open(\"names.txt\", \"r\").read().splitlines()"
   ]
  },
  {
   "cell_type": "code",
   "execution_count": 4,
   "id": "ec426464-4f6e-4b30-a100-aca0a4a1aacd",
   "metadata": {},
   "outputs": [],
   "source": [
    "#building character vocabulatry and mappings to/from integes\n",
    "chars = sorted(list(set(''.join(words))))\n",
    "stoi = {s:i+1 for i,s in enumerate(chars)} #i.e a:1\n",
    "stoi[\".\"] = 0\n",
    "itos = {i:s for s,i in stoi.items()}\n",
    "vocab_size = len(itos)"
   ]
  },
  {
   "cell_type": "code",
   "execution_count": 6,
   "id": "2579cfee-6981-43a5-bc3a-0f30f1790bea",
   "metadata": {},
   "outputs": [
    {
     "name": "stdout",
     "output_type": "stream",
     "text": [
      "torch.Size([182580, 3]) torch.Size([182580])\n",
      "torch.Size([22767, 3]) torch.Size([22767])\n",
      "torch.Size([22799, 3]) torch.Size([22799])\n"
     ]
    }
   ],
   "source": [
    "#build the dataset\n",
    "block_size = 3 #context length, how many characters to predict the next\n",
    "\n",
    "def build_dataset(words):\n",
    "    X, Y = [], [] #input, expected output\n",
    "    for w in words:\n",
    "        #print(w)\n",
    "        context = [0] * block_size\n",
    "        for ch in w + '.':\n",
    "            ix = stoi[ch]\n",
    "            X.append(context)\n",
    "            Y.append(ix)\n",
    "            #print(''.join(itos[i] for i in context), '---->', itos[ix]) #prints the context and the predicted character\n",
    "            context = context[1:] + [ix] #crop and append\n",
    "    \n",
    "    X = torch.tensor(X)\n",
    "    Y = torch.tensor(Y)\n",
    "    print(X.shape, Y.shape)\n",
    "    return X, Y\n",
    "\n",
    "import random\n",
    "random.seed(42)\n",
    "random.shuffle(words)\n",
    "n1 = int(0.8 * len(words))\n",
    "n2 = int(0.9 * len(words))\n",
    "\n",
    "Xtr, Ytr = build_dataset(words[:n1])\n",
    "Xdev, Ydev = build_dataset(words[n1:n2])\n",
    "Xte, Yte = build_dataset(words[n2:])"
   ]
  },
  {
   "cell_type": "code",
   "execution_count": 47,
   "id": "0e0383de-5d3f-48e7-bafc-44edb6b10e1c",
   "metadata": {},
   "outputs": [],
   "source": [
    "#run here, more streamlined----------------------"
   ]
  },
  {
   "cell_type": "code",
   "execution_count": 129,
   "id": "84646a06-0845-4734-bc0f-dbe3d8bc4fee",
   "metadata": {},
   "outputs": [
    {
     "data": {
      "text/plain": [
       "(torch.Size([182580, 3]), torch.Size([182580]))"
      ]
     },
     "execution_count": 129,
     "metadata": {},
     "output_type": "execute_result"
    }
   ],
   "source": [
    "Xtr.shape, Ytr.shape #dataset"
   ]
  },
  {
   "cell_type": "code",
   "execution_count": 82,
   "id": "24114d35-7566-48cd-9dc0-da3a465341b2",
   "metadata": {},
   "outputs": [],
   "source": [
    "n_embd = 10 #dimensionality of vector embedding of characters\n",
    "n_hidden = 200 #number of neurons in the hidden layer of the MLP\n",
    "\n",
    "C = torch.randn((vocab_size, n_embd)) #2 dimensional embedding for each character\n",
    "#hidden layer\n",
    "W1 = torch.randn((n_embd * block_size, n_hidden)) * (5/3) / ((n_embd * block_size) ** 0.5)  #inputs, outputs (6*2 inputs, 100 nuerons to output to)\n",
    "#b1 = torch.randn(n_hidden) *0.01\n",
    "#output layer\n",
    "W2 = torch.randn((n_hidden, vocab_size)) * 0.001\n",
    "b2 = torch.randn(vocab_size) * 0 #tensor of zeroes\n",
    "\n",
    "bngain = torch.ones((1, n_hidden)) #stuff for backpropogation\n",
    "bnbias = torch.zeros((1, n_hidden)) #so the neurons aren't being constricted to being gausian\n",
    "bnmean_running = torch.ones((1, n_hidden))\n",
    "bnstd_running = torch.zeros((1, n_hidden))\n",
    "\n",
    "parameters = [C, W1, W2, b2, bngain, bnbias]\n",
    "for p in parameters:\n",
    "    p.requires_grad = True"
   ]
  },
  {
   "cell_type": "code",
   "execution_count": 75,
   "id": "862ea720-6aa3-45d2-8de3-2b6ee190aa64",
   "metadata": {},
   "outputs": [
    {
     "data": {
      "text/plain": [
       "12297"
      ]
     },
     "execution_count": 75,
     "metadata": {},
     "output_type": "execute_result"
    }
   ],
   "source": [
    "sum(p.nelement() for p in parameters) #number of parameters"
   ]
  },
  {
   "cell_type": "code",
   "execution_count": 76,
   "id": "798ed0ab-0ed5-4812-a643-e27a28aab558",
   "metadata": {},
   "outputs": [],
   "source": [
    "lre = torch.linspace(-3, 0, 1000)\n",
    "lrs = 10**lre"
   ]
  },
  {
   "cell_type": "code",
   "execution_count": 77,
   "id": "266f62f8-af13-434c-a2e3-5833fda4a327",
   "metadata": {},
   "outputs": [],
   "source": [
    "lri = []\n",
    "lossi = []\n",
    "stepi = []"
   ]
  },
  {
   "cell_type": "code",
   "execution_count": 86,
   "id": "01cf94fa-81ac-4b96-ab33-b9f4f027a1e9",
   "metadata": {},
   "outputs": [
    {
     "name": "stdout",
     "output_type": "stream",
     "text": [
      "2.1536741256713867\n"
     ]
    }
   ],
   "source": [
    "max_steps = 200000\n",
    "batch_size = 32\n",
    "\n",
    "for i in range (max_steps):\n",
    "    #batching\n",
    "    ix = torch.randint(0, Xtr.shape[0], (batch_size,)) #getting 32 random ints from X.shape[0]\n",
    "    Xb, Yb = Xtr[ix], Ytr[ix] #Batch X, Y\n",
    "    \n",
    "    #forward pass\n",
    "    emb = C[Xb] #embed the characters into vectors\n",
    "    embcat = emb.view(emb.shape[0], -1) #I belive the -1 allows pytorch to infer what size you need, but I could be wrong\n",
    "    hpreact = embcat @ W1 #multyplying each embedding by each weight feeding into the neuron, adding a bias, then passing it through the activation fucntion\n",
    "    bnmeani = hpreact.mean(0, keepdim=True)\n",
    "    bnstdi = hpreact.std(0, keepdim=True)\n",
    "    hpreact = bngain * (hpreact - bnmeani) / bnstdi + bnbias\n",
    "\n",
    "    #batch normalization\n",
    "    with torch.no_grad():\n",
    "        bnmean_running = 0.999 * bnmean_running + 0.001 * bnmeani\n",
    "        bnstd_running = 0.999 * bnstd_running + 0.001 * bnstdi\n",
    "    \n",
    "    h = torch.tanh(hpreact) #(32, 100)\n",
    "    logits = h @ W2 + b2#(32, 27)\n",
    "    loss = F.cross_entropy(logits, Yb)\n",
    "    \n",
    "    #backward pass\n",
    "    for p in parameters:\n",
    "        p.grad = None\n",
    "    loss.backward()\n",
    "    \n",
    "    #update\n",
    "    #lr = lrs[i] #learning rate\n",
    "    lr = 0.1 if i < max_steps/2 else 0.01 #learning rate decay\n",
    "    for p in parameters:\n",
    "        p.data += -lr * p.grad\n",
    "\n",
    "    #track stats for optimizing learning rate\n",
    "    lri.append(lr)\n",
    "    lossi.append(loss.log10().item())\n",
    "    stepi.append(i)\n",
    "    \n",
    "print(loss.item())\n",
    "#plt.plot(lri, lossi)"
   ]
  },
  {
   "cell_type": "code",
   "execution_count": 66,
   "id": "baa39ca1-d57f-4878-a59e-314de4df4178",
   "metadata": {},
   "outputs": [
    {
     "data": {
      "text/plain": [
       "[<matplotlib.lines.Line2D at 0x1e183c99cf0>]"
      ]
     },
     "execution_count": 66,
     "metadata": {},
     "output_type": "execute_result"
    },
    {
     "data": {
      "image/png": "[encoded data removed]",
      "text/plain": [
       "<Figure size 640x480 with 1 Axes>"
      ]
     },
     "metadata": {},
     "output_type": "display_data"
    }
   ],
   "source": [
    "plt.plot(stepi, lossi)"
   ]
  },
  {
   "cell_type": "code",
   "execution_count": 71,
   "id": "a6c914cb-aa5e-4702-ac98-2892cba244f8",
   "metadata": {},
   "outputs": [],
   "source": [
    "#calibrate the batch norm at the end of training\n",
    "\n",
    "with torch.no_grad():\n",
    "    #passing the training set through\n",
    "    emb = C[Xtr]\n",
    "    embcat = emb.view(emb.shape[0], -1)\n",
    "    hpreact = embcat @ W1 + b1\n",
    "    #measure the mean/std over the entire training set\n",
    "    bnmean = hpreact.mean(0, keepdim=True)\n",
    "    bnstd = hpreact.std(0, keepdim=True)"
   ]
  },
  {
   "cell_type": "code",
   "execution_count": 79,
   "id": "443d2491-23b7-4e43-a2dc-549bcbbf9581",
   "metadata": {},
   "outputs": [
    {
     "name": "stdout",
     "output_type": "stream",
     "text": [
      "train 2.06671404838562\n",
      "val 2.112468719482422\n"
     ]
    }
   ],
   "source": [
    "@torch.no_grad()\n",
    "def split_loss(split):\n",
    "    x,y = {\n",
    "        \"train\": (Xtr, Ytr),\n",
    "        \"val\": (Xdev, Ydev),\n",
    "        \"test\": (Xte, Yte),\n",
    "    }[split]\n",
    "\n",
    "    emb = C[x] #(32, 3, 2) tensor\n",
    "    embcat = emb.view(emb.shape[0], -1) #I belive the -1 allows pytorch to infer what size you need, but I could be wrong\n",
    "    hpreact = embcat @ W1 + b1\n",
    "    hpreact = bngain * (hpreact - bnmean_running) / bnstd_running + bnbias\n",
    "    h = torch.tanh(hpreact) #(32, 100)\n",
    "    logits = h @ W2 + b2#(32, 27)\n",
    "    loss = F.cross_entropy(logits, y)\n",
    "    print(split, loss.item())\n",
    "\n",
    "split_loss(\"train\")\n",
    "split_loss('val')"
   ]
  },
  {
   "cell_type": "code",
   "execution_count": 18,
   "id": "09988a0b-9f65-43bc-9ad0-c76f6a7194fa",
   "metadata": {},
   "outputs": [
    {
     "name": "stdout",
     "output_type": "stream",
     "text": [
      "roman.\n",
      "rael.\n",
      "len.\n",
      "marrieila.\n",
      "makdlie.\n",
      "jarvonna.\n",
      "aby.\n",
      "nuj.\n",
      "hailoluwaja.\n",
      "haun.\n",
      "mileen.\n",
      "alen.\n",
      "zaili.\n",
      "tyrika.\n",
      "scos.\n",
      "joqbigu.\n",
      "hanis.\n",
      "hin.\n",
      "gorda.\n",
      "harouk.\n"
     ]
    }
   ],
   "source": [
    "#sampling from the model\n",
    "for _ in range(20):\n",
    "    out = []\n",
    "    context = [0] * block_size #initialize all with ...\n",
    "    while True:\n",
    "        emb = C[torch.tensor([context])] #1, block_size, d\n",
    "        h = torch.tanh(emb.view(1, -1) @ W1 + b1)\n",
    "        logits = h @ W2 + b2\n",
    "        probs = F.softmax(logits, dim=1)\n",
    "        ix = torch.multinomial(probs, num_samples = 1).item()\n",
    "        context = context[1:] + [ix]\n",
    "        out.append(ix)\n",
    "        if ix == 0:\n",
    "            break\n",
    "\n",
    "    print(''.join(itos[i] for i in out))"
   ]
  },
  {
   "cell_type": "code",
   "execution_count": 87,
   "id": "f05ef184-520a-4269-8a58-6965703e78e4",
   "metadata": {},
   "outputs": [],
   "source": [
    "#pytorch-style"
   ]
  },
  {
   "cell_type": "code",
   "execution_count": 99,
   "id": "d11b0f68-7104-4155-af23-f990258940d4",
   "metadata": {},
   "outputs": [
    {
     "name": "stdout",
     "output_type": "stream",
     "text": [
      "47551\n"
     ]
    }
   ],
   "source": [
    "class Linear:\n",
    "    def __init__(self, fan_in, fan_out, bias=True):\n",
    "        self.weight = torch.randn((fan_in, fan_out)) / fan_in**0.5\n",
    "        self.bias = torch.zeros(fan_out) if bias else None\n",
    "\n",
    "    def __call__(self, x):\n",
    "        self.out = x @ self.weight\n",
    "        if self.bias is not None:\n",
    "            self.out += self.bias\n",
    "        return self.out\n",
    "\n",
    "    def parameters(self):\n",
    "        return [self.weight] + ([] if self.bias is None else [self.bias])\n",
    "\n",
    "class BatchNorm1d:\n",
    "    def __init__(self, dim, eps=1e-5, momentum = 0.1):\n",
    "        self.eps = eps\n",
    "        self.momentum = momentum\n",
    "        self.training = True\n",
    "        #parameters (trained when backpropogating)\n",
    "        self.gamma = torch.ones(dim)\n",
    "        self.beta = torch.zeros(dim)\n",
    "        #buffers (trained with a running 'momentum update')\n",
    "        self.running_mean = torch.zeros(dim)\n",
    "        self.running_var = torch.ones(dim)\n",
    "\n",
    "    def __call__(self, x):\n",
    "        #calculate the forward pass\n",
    "        if self.training:\n",
    "            xmean = x.mean(0, keepdim=True) #batch mean\n",
    "            xvar = x.var(0, keepdim=True) #batch variance \n",
    "        else:\n",
    "            xmean = self.running_mean\n",
    "            xvar = self.running_var\n",
    "        xhat = (x - xmean) / torch.sqrt(xvar + self.eps) #normalize to unite variance\n",
    "        self.out = self.gamma * xhat + self.beta\n",
    "        #update the buffers\n",
    "        if self.training:\n",
    "            with torch.no_grad():\n",
    "                self.running_mean = (1 - self.momentum) * self.running_mean + self.momentum * xmean\n",
    "                self.running_var = (1 - self.momentum) * self.running_var + self.momentum * xvar\n",
    "        return self.out\n",
    "\n",
    "    def parameters(self):\n",
    "        return [self.gamma, self.beta]\n",
    "\n",
    "class Tanh:\n",
    "    def __call__(self, x): \n",
    "        self.out = torch.tanh(x)\n",
    "        return self.out\n",
    "    def parameters(self):\n",
    "        return []\n",
    "\n",
    "n_embd = 10 #dimensionality of the character embeddings\n",
    "n_hidden = 100 #number of neurons in the hidden layer\n",
    "\n",
    "C = torch.randn((vocab_size, n_embd))\n",
    "layers = [\n",
    "    Linear(n_embd * block_size, n_hidden), BatchNorm1d(n_hidden), Tanh(),\n",
    "    Linear(n_hidden, n_hidden), BatchNorm1d(n_hidden), Tanh(),\n",
    "    Linear(n_hidden, n_hidden), BatchNorm1d(n_hidden), Tanh(),\n",
    "    Linear(n_hidden, n_hidden), BatchNorm1d(n_hidden), Tanh(),\n",
    "    Linear(n_hidden, n_hidden), BatchNorm1d(n_hidden), Tanh(),\n",
    "    Linear(n_hidden, vocab_size), BatchNorm1d(vocab_size),\n",
    "]\n",
    "\n",
    "with torch.no_grad():\n",
    "    #make the last layer less confident?\n",
    "    layers[-1].gamma *= 0.1\n",
    "    #layers[-1].weight *= 0.1\n",
    "    #all other layers, apply gain\n",
    "    for layer in layers[:-1]:\n",
    "        if isinstance(layer, Linear):\n",
    "            layer.weight *= 5/3\n",
    "\n",
    "parameters = [C] + [p for layer in layers for p in layer.parameters()]\n",
    "print(sum(p.nelement() for p in parameters)) #number of total parameters\n",
    "for p in parameters:\n",
    "    p.requires_grad = True"
   ]
  },
  {
   "cell_type": "code",
   "execution_count": 100,
   "id": "87c3cd73-66c1-4b55-ad7c-8cf5f3d52667",
   "metadata": {},
   "outputs": [
    {
     "name": "stdout",
     "output_type": "stream",
     "text": [
      "      0/ 200000: 3.3218\n"
     ]
    }
   ],
   "source": [
    "#optimization\n",
    "max_steps = 200000\n",
    "batch_size = 32\n",
    "lossi = []\n",
    "\n",
    "for i in range(max_steps):\n",
    "    #minibatch construct\n",
    "    ix = torch.randint(0, Xtr.shape[0], (batch_size,))\n",
    "    Xb, Yb = Xtr[ix], Ytr[ix]\n",
    "\n",
    "    #forward pass\n",
    "    emb = C[Xb] #embed the characters into vectors\n",
    "    x = emb.view(emb.shape[0], -1) #concatenating the vectors\\\n",
    "    for layer in layers:\n",
    "        x = layer(x)\n",
    "    loss = F.cross_entropy(x, Yb) #loss function\n",
    "    \n",
    "    #backward pass\n",
    "    for layer in layers:\n",
    "        layer.out.retain_grad() #AFTER_DEBUG: take this out\n",
    "    for p in parameters:\n",
    "        p.grad = None\n",
    "    loss.backward()\n",
    "    \n",
    "    #update\n",
    "    lr = 0.1 if i < max_steps/2 else 0.01 #learning rate decay\n",
    "    for p in parameters:\n",
    "        p.data += -lr * p.grad\n",
    "\n",
    "    #track stats for optimizing learning rate\n",
    "    if i % 10000 == 0:\n",
    "        print(f'{i:7d}/{max_steps:7d}: {loss.item():.4f}')\n",
    "    lossi.append(loss.log10().item())\n",
    "\n",
    "    break #AFTER_DEBUG: take this out too"
   ]
  },
  {
   "cell_type": "code",
   "execution_count": null,
   "id": "8ba00605-b8cf-485e-b616-e441963c1733",
   "metadata": {},
   "outputs": [],
   "source": []
  }
 ],
 "metadata": {
  "kernelspec": {
   "display_name": "Python 3 (ipykernel)",
   "language": "python",
   "name": "python3"
  },
  "language_info": {
   "codemirror_mode": {
    "name": "ipython",
    "version": 3
   },
   "file_extension": ".py",
   "mimetype": "text/x-python",
   "name": "python",
   "nbconvert_exporter": "python",
   "pygments_lexer": "ipython3",
   "version": "3.10.0"
  }
 },
 "nbformat": 4,
 "nbformat_minor": 5
}
